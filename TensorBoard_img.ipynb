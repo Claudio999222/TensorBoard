{
 "cells": [
  {
   "cell_type": "code",
   "execution_count": 1,
   "id": "624c37d3-33f1-49d7-b606-aaed541af7be",
   "metadata": {},
   "outputs": [],
   "source": [
    "import tensorflow as tf\n",
    "import datetime\n",
    "import numpy as np"
   ]
  },
  {
   "cell_type": "markdown",
   "id": "f9dc9e07-4f1a-454e-b3a4-247f0f0b8209",
   "metadata": {},
   "source": [
    "#### implemento un modello con il dataset MNIST"
   ]
  },
  {
   "cell_type": "code",
   "execution_count": 2,
   "id": "ece349c0-8982-479f-b002-ee1de75ebcf8",
   "metadata": {},
   "outputs": [
    {
     "name": "stdout",
     "output_type": "stream",
     "text": [
      "Model: \"sequential\"\n",
      "_________________________________________________________________\n",
      " Layer (type)                Output Shape              Param #   \n",
      "=================================================================\n",
      " flatten (Flatten)           (None, 784)               0         \n",
      "                                                                 \n",
      " dense (Dense)               (None, 64)                50240     \n",
      "                                                                 \n",
      " dropout (Dropout)           (None, 64)                0         \n",
      "                                                                 \n",
      " dense_1 (Dense)             (None, 128)               8320      \n",
      "                                                                 \n",
      " dropout_1 (Dropout)         (None, 128)               0         \n",
      "                                                                 \n",
      " dense_2 (Dense)             (None, 256)               33024     \n",
      "                                                                 \n",
      " dropout_2 (Dropout)         (None, 256)               0         \n",
      "                                                                 \n",
      " dense_3 (Dense)             (None, 10)                2570      \n",
      "                                                                 \n",
      "=================================================================\n",
      "Total params: 94154 (367.79 KB)\n",
      "Trainable params: 94154 (367.79 KB)\n",
      "Non-trainable params: 0 (0.00 Byte)\n",
      "_________________________________________________________________\n"
     ]
    }
   ],
   "source": [
    "mnist = tf.keras.datasets.mnist\n",
    "\n",
    "(x_train, y_train),(x_test, y_test) = mnist.load_data()\n",
    "x_train, x_test = x_train / 255.0, x_test / 255.0\n",
    "\n",
    "def create_model():\n",
    "  return tf.keras.models.Sequential([\n",
    "    tf.keras.layers.Flatten(input_shape=(28, 28)),\n",
    "    tf.keras.layers.Dense(64, activation='sigmoid', kernel_initializer=tf.keras.initializers.RandomUniform()),\n",
    "    tf.keras.layers.Dropout(0.5),\n",
    "    tf.keras.layers.Dense(128, activation='sigmoid', kernel_initializer=tf.keras.initializers.RandomUniform()),\n",
    "    tf.keras.layers.Dropout(0.5),\n",
    "    tf.keras.layers.Dense(256, activation='sigmoid', kernel_initializer=tf.keras.initializers.RandomUniform()),\n",
    "    tf.keras.layers.Dropout(0.5),\n",
    "    tf.keras.layers.Dense(10, activation='softmax')\n",
    "  ])\n",
    "\n",
    "model = create_model()\n",
    "model.compile(optimizer='adam',\n",
    "              loss='sparse_categorical_crossentropy',\n",
    "              metrics=['accuracy'])\n",
    "\n",
    "model.summary()"
   ]
  },
  {
   "cell_type": "markdown",
   "id": "93a5aa4a-50be-4d16-bb20-cfa2d894dc1c",
   "metadata": {},
   "source": [
    "#### path per i log di TensorBoard"
   ]
  },
  {
   "cell_type": "code",
   "execution_count": 3,
   "id": "44203d24-153f-479b-9290-64bb2274d21f",
   "metadata": {},
   "outputs": [],
   "source": [
    "log_dir = \"logs/fit/\" + datetime.datetime.now().strftime(\"%Y%m%d-%H%M%S\")\n",
    "tensorboard_callback = tf.keras.callbacks.TensorBoard(log_dir=log_dir)"
   ]
  },
  {
   "cell_type": "markdown",
   "id": "60168f3f-1752-43ea-8008-05a65dd22223",
   "metadata": {},
   "source": [
    "#### Imposto un learning rate che muta in base all'epoca di addestramento"
   ]
  },
  {
   "cell_type": "code",
   "execution_count": 5,
   "id": "04d766df-da16-45ed-83a8-57d40134786b",
   "metadata": {},
   "outputs": [],
   "source": [
    "file_writer = tf.summary.create_file_writer(log_dir)\n",
    "file_writer.set_as_default()\n",
    "\n",
    "def lr_schedule(epoch):\n",
    "    learning_rate = 0.003\n",
    "    if epoch > 10:\n",
    "        learning_rate = 0.002\n",
    "    if epoch > 20:\n",
    "        learning_rate = 0.001\n",
    "    if epoch > 40:\n",
    "        learning_rate = 0.0005\n",
    "\n",
    "    # log del learning-rate in TensorBoard\n",
    "    tf.summary.scalar('learning rate', data=learning_rate, step=epoch)\n",
    "    return learning_rate\n",
    "\n",
    "lr_callback = tf.keras.callbacks.LearningRateScheduler(lr_schedule)"
   ]
  },
  {
   "cell_type": "markdown",
   "id": "a65bbd93-83ab-4bd5-93f3-7f7403ccd163",
   "metadata": {},
   "source": [
    "#### Addestro il modello"
   ]
  },
  {
   "cell_type": "code",
   "execution_count": null,
   "id": "4778b91d-ef02-45ff-b549-e6178ebae507",
   "metadata": {},
   "outputs": [
    {
     "name": "stdout",
     "output_type": "stream",
     "text": [
      "Epoch 1/50\n",
      "15/15 [==============================] - 3s 92ms/step - loss: 2.4756 - accuracy: 0.1010 - val_loss: 2.2975 - val_accuracy: 0.1425 - lr: 0.0030\n",
      "Epoch 2/50\n",
      "15/15 [==============================] - 1s 72ms/step - loss: 2.3216 - accuracy: 0.1130 - val_loss: 2.2636 - val_accuracy: 0.1806 - lr: 0.0030\n",
      "Epoch 3/50\n",
      "15/15 [==============================] - 1s 75ms/step - loss: 2.2008 - accuracy: 0.1921 - val_loss: 1.9663 - val_accuracy: 0.3038 - lr: 0.0030\n",
      "Epoch 4/50\n",
      "15/15 [==============================] - 1s 77ms/step - loss: 1.7884 - accuracy: 0.3224 - val_loss: 1.3703 - val_accuracy: 0.5372 - lr: 0.0030\n",
      "Epoch 5/50\n",
      "15/15 [==============================] - 1s 74ms/step - loss: 1.3766 - accuracy: 0.4622 - val_loss: 1.0500 - val_accuracy: 0.6808 - lr: 0.0030\n",
      "Epoch 6/50\n",
      "15/15 [==============================] - 1s 72ms/step - loss: 1.1485 - accuracy: 0.5729 - val_loss: 0.8425 - val_accuracy: 0.7632 - lr: 0.0030\n",
      "Epoch 7/50\n",
      "15/15 [==============================] - 1s 69ms/step - loss: 0.9743 - accuracy: 0.6643 - val_loss: 0.6787 - val_accuracy: 0.8102 - lr: 0.0030\n",
      "Epoch 8/50\n",
      "15/15 [==============================] - 1s 71ms/step - loss: 0.8399 - accuracy: 0.7235 - val_loss: 0.5685 - val_accuracy: 0.8496 - lr: 0.0030\n",
      "Epoch 9/50\n",
      "15/15 [==============================] - 1s 71ms/step - loss: 0.7482 - accuracy: 0.7658 - val_loss: 0.4961 - val_accuracy: 0.8702 - lr: 0.0030\n",
      "Epoch 10/50\n",
      "15/15 [==============================] - 1s 71ms/step - loss: 0.6781 - accuracy: 0.7967 - val_loss: 0.4468 - val_accuracy: 0.8838 - lr: 0.0030\n",
      "Epoch 11/50\n",
      "15/15 [==============================] - 1s 71ms/step - loss: 0.6292 - accuracy: 0.8157 - val_loss: 0.4131 - val_accuracy: 0.8913 - lr: 0.0030\n",
      "Epoch 12/50\n",
      "15/15 [==============================] - 1s 69ms/step - loss: 0.5983 - accuracy: 0.8275 - val_loss: 0.3931 - val_accuracy: 0.8968 - lr: 0.0020\n",
      "Epoch 13/50\n",
      "15/15 [==============================] - 1s 72ms/step - loss: 0.5684 - accuracy: 0.8379 - val_loss: 0.3770 - val_accuracy: 0.9002 - lr: 0.0020\n",
      "Epoch 14/50\n",
      "15/15 [==============================] - 1s 69ms/step - loss: 0.5545 - accuracy: 0.8449 - val_loss: 0.3619 - val_accuracy: 0.9035 - lr: 0.0020\n",
      "Epoch 15/50\n",
      "15/15 [==============================] - 1s 69ms/step - loss: 0.5338 - accuracy: 0.8493 - val_loss: 0.3526 - val_accuracy: 0.9054 - lr: 0.0020\n",
      "Epoch 16/50\n",
      "15/15 [==============================] - 1s 72ms/step - loss: 0.5232 - accuracy: 0.8528 - val_loss: 0.3389 - val_accuracy: 0.9091 - lr: 0.0020\n",
      "Epoch 17/50\n",
      "15/15 [==============================] - 1s 72ms/step - loss: 0.5039 - accuracy: 0.8587 - val_loss: 0.3275 - val_accuracy: 0.9114 - lr: 0.0020\n",
      "Epoch 18/50\n",
      "15/15 [==============================] - 1s 70ms/step - loss: 0.4888 - accuracy: 0.8620 - val_loss: 0.3196 - val_accuracy: 0.9143 - lr: 0.0020\n",
      "Epoch 19/50\n",
      "15/15 [==============================] - 1s 75ms/step - loss: 0.4786 - accuracy: 0.8639 - val_loss: 0.3094 - val_accuracy: 0.9167 - lr: 0.0020\n",
      "Epoch 20/50\n",
      "15/15 [==============================] - 1s 71ms/step - loss: 0.4700 - accuracy: 0.8666 - val_loss: 0.3015 - val_accuracy: 0.9174 - lr: 0.0020\n",
      "Epoch 21/50\n",
      "15/15 [==============================] - 1s 71ms/step - loss: 0.4550 - accuracy: 0.8737 - val_loss: 0.2970 - val_accuracy: 0.9187 - lr: 0.0020\n",
      "Epoch 22/50\n",
      "15/15 [==============================] - 1s 70ms/step - loss: 0.4521 - accuracy: 0.8737 - val_loss: 0.2917 - val_accuracy: 0.9206 - lr: 0.0010\n",
      "Epoch 23/50\n",
      "15/15 [==============================] - 1s 70ms/step - loss: 0.4438 - accuracy: 0.8758 - val_loss: 0.2896 - val_accuracy: 0.9201 - lr: 0.0010\n",
      "Epoch 24/50\n",
      "15/15 [==============================] - 1s 81ms/step - loss: 0.4400 - accuracy: 0.8771 - val_loss: 0.2876 - val_accuracy: 0.9217 - lr: 0.0010\n",
      "Epoch 25/50\n",
      "15/15 [==============================] - 2s 106ms/step - loss: 0.4382 - accuracy: 0.8783 - val_loss: 0.2829 - val_accuracy: 0.9223 - lr: 0.0010\n",
      "Epoch 26/50\n",
      "15/15 [==============================] - 2s 105ms/step - loss: 0.4257 - accuracy: 0.8809 - val_loss: 0.2816 - val_accuracy: 0.9230 - lr: 0.0010\n",
      "Epoch 27/50\n",
      "15/15 [==============================] - 2s 110ms/step - loss: 0.4275 - accuracy: 0.8810 - val_loss: 0.2774 - val_accuracy: 0.9240 - lr: 0.0010\n",
      "Epoch 28/50\n",
      "15/15 [==============================] - 2s 101ms/step - loss: 0.4183 - accuracy: 0.8816 - val_loss: 0.2754 - val_accuracy: 0.9250 - lr: 0.0010\n",
      "Epoch 29/50\n",
      "15/15 [==============================] - 1s 98ms/step - loss: 0.4223 - accuracy: 0.8807 - val_loss: 0.2722 - val_accuracy: 0.9247 - lr: 0.0010\n",
      "Epoch 30/50\n",
      "15/15 [==============================] - 1s 98ms/step - loss: 0.4125 - accuracy: 0.8859 - val_loss: 0.2691 - val_accuracy: 0.9261 - lr: 0.0010\n",
      "Epoch 31/50\n",
      "15/15 [==============================] - 2s 104ms/step - loss: 0.4134 - accuracy: 0.8831 - val_loss: 0.2673 - val_accuracy: 0.9265 - lr: 0.0010\n",
      "Epoch 32/50\n",
      " 9/15 [=================>............] - ETA: 0s - loss: 0.4085 - accuracy: 0.8858"
     ]
    }
   ],
   "source": [
    "model.fit(x=x_train,\n",
    "          y=y_train,\n",
    "          epochs=50,\n",
    "          batch_size=4096,\n",
    "          validation_data=(x_test, y_test),\n",
    "          callbacks=[tensorboard_callback, lr_callback])"
   ]
  },
  {
   "cell_type": "markdown",
   "id": "46319005-a384-4291-ac9d-7cb645c3d309",
   "metadata": {},
   "source": [
    "#### Scrittura di un log utilizzabile da TensorBoard delle prime "
   ]
  }
 ],
 "metadata": {
  "kernelspec": {
   "display_name": "Python 3 (ipykernel)",
   "language": "python",
   "name": "python3"
  },
  "language_info": {
   "codemirror_mode": {
    "name": "ipython",
    "version": 3
   },
   "file_extension": ".py",
   "mimetype": "text/x-python",
   "name": "python",
   "nbconvert_exporter": "python",
   "pygments_lexer": "ipython3",
   "version": "3.11.4"
  }
 },
 "nbformat": 4,
 "nbformat_minor": 5
}
