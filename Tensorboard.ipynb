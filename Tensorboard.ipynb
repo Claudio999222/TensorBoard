{
 "cells": [
  {
   "cell_type": "code",
   "execution_count": 1,
   "id": "1dc5dd69-b875-4915-b9fa-dd4399229847",
   "metadata": {},
   "outputs": [],
   "source": [
    "import tensorflow as tf\n",
    "import datetime"
   ]
  },
  {
   "cell_type": "markdown",
   "id": "74da74c2-4acb-4d20-b5b6-e37378ca5f92",
   "metadata": {},
   "source": [
    "#### Usando il set di dati MNIST come esempio, eseguo il log di un addestramento su TensorBoard"
   ]
  },
  {
   "cell_type": "code",
   "execution_count": 2,
   "id": "50a0883f-72b9-4f6e-a669-0e6173d82fde",
   "metadata": {},
   "outputs": [
    {
     "name": "stdout",
     "output_type": "stream",
     "text": [
      "Model: \"sequential\"\n",
      "_________________________________________________________________\n",
      " Layer (type)                Output Shape              Param #   \n",
      "=================================================================\n",
      " flatten (Flatten)           (None, 784)               0         \n",
      "                                                                 \n",
      " dense (Dense)               (None, 16)                12560     \n",
      "                                                                 \n",
      " dropout (Dropout)           (None, 16)                0         \n",
      "                                                                 \n",
      " dense_1 (Dense)             (None, 32)                544       \n",
      "                                                                 \n",
      " dropout_1 (Dropout)         (None, 32)                0         \n",
      "                                                                 \n",
      " dense_2 (Dense)             (None, 64)                2112      \n",
      "                                                                 \n",
      " dropout_2 (Dropout)         (None, 64)                0         \n",
      "                                                                 \n",
      " dense_3 (Dense)             (None, 10)                650       \n",
      "                                                                 \n",
      "=================================================================\n",
      "Total params: 15866 (61.98 KB)\n",
      "Trainable params: 15866 (61.98 KB)\n",
      "Non-trainable params: 0 (0.00 Byte)\n",
      "_________________________________________________________________\n"
     ]
    }
   ],
   "source": [
    "mnist = tf.keras.datasets.mnist\n",
    "\n",
    "(x_train, y_train),(x_test, y_test) = mnist.load_data()\n",
    "x_train, x_test = x_train / 255.0, x_test / 255.0\n",
    "\n",
    "def create_model():\n",
    "  return tf.keras.models.Sequential([\n",
    "    tf.keras.layers.Flatten(input_shape=(28, 28)),\n",
    "    tf.keras.layers.Dense(16, activation='sigmoid', kernel_initializer=tf.keras.initializers.RandomUniform()),\n",
    "    tf.keras.layers.Dropout(0.5),\n",
    "    tf.keras.layers.Dense(32, activation='sigmoid', kernel_initializer=tf.keras.initializers.RandomUniform()),\n",
    "    tf.keras.layers.Dropout(0.5),\n",
    "    tf.keras.layers.Dense(64, activation='sigmoid', kernel_initializer=tf.keras.initializers.RandomUniform()),\n",
    "    tf.keras.layers.Dropout(0.5),\n",
    "    tf.keras.layers.Dense(10, activation='softmax')\n",
    "  ])\n",
    "\n",
    "model = create_model()\n",
    "model.compile(optimizer='adam',\n",
    "              loss='sparse_categorical_crossentropy',\n",
    "              metrics=['accuracy'])\n",
    "\n",
    "model.summary()"
   ]
  },
  {
   "cell_type": "markdown",
   "id": "87afe113-6ea8-4a1c-8530-7cac366e838f",
   "metadata": {},
   "source": [
    "#### Utilizzo TensorBoard con keras \n",
    "Questo mi permette di: \n",
    "* visualizzare i grafici di addestramento\n",
    "* creare un log di addestramento\n",
    "* leggere distribuzione dei pesi\n",
    "\n",
    "e tutto cio che riguarda l'analisi dell'addestramento "
   ]
  },
  {
   "cell_type": "code",
   "execution_count": 3,
   "id": "42e15fac-bc3b-4dbf-9ad0-ac571f0c8b50",
   "metadata": {
    "scrolled": true
   },
   "outputs": [
    {
     "name": "stdout",
     "output_type": "stream",
     "text": [
      "Epoch 1/50\n",
      "15/15 [==============================] - 3s 78ms/step - loss: 2.5585 - accuracy: 0.1036 - val_loss: 2.3119 - val_accuracy: 0.1028\n",
      "Epoch 2/50\n",
      "15/15 [==============================] - 1s 36ms/step - loss: 2.4506 - accuracy: 0.1016 - val_loss: 2.3028 - val_accuracy: 0.1135\n",
      "Epoch 3/50\n",
      "15/15 [==============================] - 1s 37ms/step - loss: 2.4153 - accuracy: 0.1008 - val_loss: 2.2993 - val_accuracy: 0.1135\n",
      "Epoch 4/50\n",
      "15/15 [==============================] - 1s 37ms/step - loss: 2.3819 - accuracy: 0.1022 - val_loss: 2.2984 - val_accuracy: 0.1135\n",
      "Epoch 5/50\n",
      "15/15 [==============================] - 1s 34ms/step - loss: 2.3565 - accuracy: 0.1033 - val_loss: 2.2974 - val_accuracy: 0.1135\n",
      "Epoch 6/50\n",
      "15/15 [==============================] - 0s 34ms/step - loss: 2.3396 - accuracy: 0.1032 - val_loss: 2.2952 - val_accuracy: 0.1135\n",
      "Epoch 7/50\n",
      "15/15 [==============================] - 0s 34ms/step - loss: 2.3254 - accuracy: 0.1041 - val_loss: 2.2922 - val_accuracy: 0.1135\n",
      "Epoch 8/50\n",
      "15/15 [==============================] - 0s 33ms/step - loss: 2.3152 - accuracy: 0.1094 - val_loss: 2.2878 - val_accuracy: 0.1135\n",
      "Epoch 9/50\n",
      "15/15 [==============================] - 1s 34ms/step - loss: 2.3080 - accuracy: 0.1115 - val_loss: 2.2804 - val_accuracy: 0.1135\n",
      "Epoch 10/50\n",
      "15/15 [==============================] - 1s 45ms/step - loss: 2.2983 - accuracy: 0.1195 - val_loss: 2.2695 - val_accuracy: 0.1135\n",
      "Epoch 11/50\n",
      "15/15 [==============================] - 1s 35ms/step - loss: 2.2853 - accuracy: 0.1270 - val_loss: 2.2561 - val_accuracy: 0.1135\n",
      "Epoch 12/50\n",
      "15/15 [==============================] - 1s 36ms/step - loss: 2.2718 - accuracy: 0.1363 - val_loss: 2.2405 - val_accuracy: 0.1135\n",
      "Epoch 13/50\n",
      "15/15 [==============================] - 1s 35ms/step - loss: 2.2549 - accuracy: 0.1448 - val_loss: 2.2218 - val_accuracy: 0.1135\n",
      "Epoch 14/50\n",
      "15/15 [==============================] - 1s 35ms/step - loss: 2.2391 - accuracy: 0.1537 - val_loss: 2.2014 - val_accuracy: 0.2027\n",
      "Epoch 15/50\n",
      "15/15 [==============================] - 1s 35ms/step - loss: 2.2211 - accuracy: 0.1586 - val_loss: 2.1795 - val_accuracy: 0.2055\n",
      "Epoch 16/50\n",
      "15/15 [==============================] - 1s 35ms/step - loss: 2.2013 - accuracy: 0.1679 - val_loss: 2.1568 - val_accuracy: 0.2189\n",
      "Epoch 17/50\n",
      "15/15 [==============================] - 1s 38ms/step - loss: 2.1832 - accuracy: 0.1709 - val_loss: 2.1341 - val_accuracy: 0.2396\n",
      "Epoch 18/50\n",
      "15/15 [==============================] - 1s 35ms/step - loss: 2.1643 - accuracy: 0.1741 - val_loss: 2.1124 - val_accuracy: 0.2052\n",
      "Epoch 19/50\n",
      "15/15 [==============================] - 1s 38ms/step - loss: 2.1451 - accuracy: 0.1762 - val_loss: 2.0916 - val_accuracy: 0.2222\n",
      "Epoch 20/50\n",
      "15/15 [==============================] - 1s 34ms/step - loss: 2.1288 - accuracy: 0.1812 - val_loss: 2.0719 - val_accuracy: 0.2203\n",
      "Epoch 21/50\n",
      "15/15 [==============================] - 1s 34ms/step - loss: 2.1135 - accuracy: 0.1819 - val_loss: 2.0544 - val_accuracy: 0.2286\n",
      "Epoch 22/50\n",
      "15/15 [==============================] - 1s 35ms/step - loss: 2.0990 - accuracy: 0.1831 - val_loss: 2.0371 - val_accuracy: 0.2468\n",
      "Epoch 23/50\n",
      "15/15 [==============================] - 1s 35ms/step - loss: 2.0841 - accuracy: 0.1852 - val_loss: 2.0217 - val_accuracy: 0.2003\n",
      "Epoch 24/50\n",
      "15/15 [==============================] - 1s 34ms/step - loss: 2.0716 - accuracy: 0.1885 - val_loss: 2.0077 - val_accuracy: 0.2229\n",
      "Epoch 25/50\n",
      "15/15 [==============================] - 1s 34ms/step - loss: 2.0573 - accuracy: 0.1908 - val_loss: 1.9942 - val_accuracy: 0.2224\n",
      "Epoch 26/50\n",
      "15/15 [==============================] - 1s 34ms/step - loss: 2.0494 - accuracy: 0.1915 - val_loss: 1.9826 - val_accuracy: 0.2229\n",
      "Epoch 27/50\n",
      "15/15 [==============================] - 1s 36ms/step - loss: 2.0368 - accuracy: 0.1920 - val_loss: 1.9721 - val_accuracy: 0.2287\n",
      "Epoch 28/50\n",
      "15/15 [==============================] - 1s 39ms/step - loss: 2.0294 - accuracy: 0.1925 - val_loss: 1.9629 - val_accuracy: 0.2235\n",
      "Epoch 29/50\n",
      "15/15 [==============================] - 1s 40ms/step - loss: 2.0182 - accuracy: 0.1939 - val_loss: 1.9537 - val_accuracy: 0.2226\n",
      "Epoch 30/50\n",
      "15/15 [==============================] - 1s 39ms/step - loss: 2.0096 - accuracy: 0.1971 - val_loss: 1.9454 - val_accuracy: 0.2247\n",
      "Epoch 31/50\n",
      "15/15 [==============================] - 1s 39ms/step - loss: 2.0041 - accuracy: 0.1968 - val_loss: 1.9384 - val_accuracy: 0.2275\n",
      "Epoch 32/50\n",
      "15/15 [==============================] - 1s 35ms/step - loss: 1.9967 - accuracy: 0.1963 - val_loss: 1.9312 - val_accuracy: 0.2253\n",
      "Epoch 33/50\n",
      "15/15 [==============================] - 1s 36ms/step - loss: 1.9910 - accuracy: 0.1989 - val_loss: 1.9254 - val_accuracy: 0.2423\n",
      "Epoch 34/50\n",
      "15/15 [==============================] - 1s 35ms/step - loss: 1.9824 - accuracy: 0.1993 - val_loss: 1.9194 - val_accuracy: 0.2252\n",
      "Epoch 35/50\n",
      "15/15 [==============================] - 1s 37ms/step - loss: 1.9772 - accuracy: 0.1995 - val_loss: 1.9142 - val_accuracy: 0.2244\n",
      "Epoch 36/50\n",
      "15/15 [==============================] - 1s 39ms/step - loss: 1.9717 - accuracy: 0.2009 - val_loss: 1.9093 - val_accuracy: 0.2266\n",
      "Epoch 37/50\n",
      "15/15 [==============================] - 1s 36ms/step - loss: 1.9653 - accuracy: 0.2014 - val_loss: 1.9035 - val_accuracy: 0.2313\n",
      "Epoch 38/50\n",
      "15/15 [==============================] - 1s 38ms/step - loss: 1.9613 - accuracy: 0.2015 - val_loss: 1.9002 - val_accuracy: 0.2273\n",
      "Epoch 39/50\n",
      "15/15 [==============================] - 1s 38ms/step - loss: 1.9562 - accuracy: 0.2016 - val_loss: 1.8952 - val_accuracy: 0.2326\n",
      "Epoch 40/50\n",
      "15/15 [==============================] - 1s 35ms/step - loss: 1.9524 - accuracy: 0.2051 - val_loss: 1.8925 - val_accuracy: 0.2257\n",
      "Epoch 41/50\n",
      "15/15 [==============================] - 1s 36ms/step - loss: 1.9486 - accuracy: 0.2062 - val_loss: 1.8881 - val_accuracy: 0.2295\n",
      "Epoch 42/50\n",
      "15/15 [==============================] - 1s 36ms/step - loss: 1.9438 - accuracy: 0.2048 - val_loss: 1.8842 - val_accuracy: 0.2416\n",
      "Epoch 43/50\n",
      "15/15 [==============================] - 1s 39ms/step - loss: 1.9405 - accuracy: 0.2054 - val_loss: 1.8812 - val_accuracy: 0.2511\n",
      "Epoch 44/50\n",
      "15/15 [==============================] - 1s 37ms/step - loss: 1.9357 - accuracy: 0.2080 - val_loss: 1.8782 - val_accuracy: 0.2354\n",
      "Epoch 45/50\n",
      "15/15 [==============================] - 0s 34ms/step - loss: 1.9330 - accuracy: 0.2104 - val_loss: 1.8746 - val_accuracy: 0.2330\n",
      "Epoch 46/50\n",
      "15/15 [==============================] - 1s 38ms/step - loss: 1.9300 - accuracy: 0.2089 - val_loss: 1.8722 - val_accuracy: 0.2388\n",
      "Epoch 47/50\n",
      "15/15 [==============================] - 1s 36ms/step - loss: 1.9269 - accuracy: 0.2121 - val_loss: 1.8689 - val_accuracy: 0.2389\n",
      "Epoch 48/50\n",
      "15/15 [==============================] - 1s 38ms/step - loss: 1.9215 - accuracy: 0.2141 - val_loss: 1.8649 - val_accuracy: 0.2480\n",
      "Epoch 49/50\n",
      "15/15 [==============================] - 1s 37ms/step - loss: 1.9196 - accuracy: 0.2140 - val_loss: 1.8638 - val_accuracy: 0.2379\n",
      "Epoch 50/50\n",
      "15/15 [==============================] - 1s 36ms/step - loss: 1.9194 - accuracy: 0.2144 - val_loss: 1.8600 - val_accuracy: 0.2487\n"
     ]
    },
    {
     "data": {
      "text/plain": [
       "<keras.src.callbacks.History at 0x1896bc50ad0>"
      ]
     },
     "execution_count": 3,
     "metadata": {},
     "output_type": "execute_result"
    }
   ],
   "source": [
    "log_dir = \"logs/fit/\" + datetime.datetime.now().strftime(\"%Y%m%d-%H%M%S\")\n",
    "tensorboard_callback = tf.keras.callbacks.TensorBoard(log_dir=log_dir, histogram_freq=1)\n",
    "\n",
    "model.fit(x=x_train,\n",
    "          y=y_train,\n",
    "          epochs=50,\n",
    "          batch_size=4096,\n",
    "          validation_data=(x_test, y_test),\n",
    "          callbacks=[tensorboard_callback])"
   ]
  },
  {
   "cell_type": "markdown",
   "id": "99feac0d-82aa-4cf8-a1b0-e9d0fbf9f982",
   "metadata": {},
   "source": [
    "eseguito lo script, in una shell avviare Tensorboard con il seguente comando nella stessa cartella in cui è salvato questo jupyter notebook\r\n",
    "\r\n",
    "(venv) C:\\....\\tensorboard --logdir logs/fit"
   ]
  },
  {
   "cell_type": "code",
   "execution_count": null,
   "id": "1061f598-60c4-4bb0-8e50-8344610b644d",
   "metadata": {},
   "outputs": [],
   "source": []
  }
 ],
 "metadata": {
  "kernelspec": {
   "display_name": "Python 3 (ipykernel)",
   "language": "python",
   "name": "python3"
  },
  "language_info": {
   "codemirror_mode": {
    "name": "ipython",
    "version": 3
   },
   "file_extension": ".py",
   "mimetype": "text/x-python",
   "name": "python",
   "nbconvert_exporter": "python",
   "pygments_lexer": "ipython3",
   "version": "3.11.4"
  }
 },
 "nbformat": 4,
 "nbformat_minor": 5
}
