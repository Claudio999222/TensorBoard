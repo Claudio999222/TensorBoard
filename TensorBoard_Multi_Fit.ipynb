{
 "cells": [
  {
   "cell_type": "code",
   "execution_count": 1,
   "id": "98094af9-c56f-4b6c-9dc7-c4594e3aa663",
   "metadata": {},
   "outputs": [],
   "source": [
    "import tensorflow as tf \n",
    "from tensorboard.plugins.hparams import api as hp"
   ]
  },
  {
   "cell_type": "markdown",
   "id": "35bf69f6-cb68-4fb5-bad2-450b6691a06e",
   "metadata": {},
   "source": [
    "#### Import il dataset mnist"
   ]
  },
  {
   "cell_type": "code",
   "execution_count": 2,
   "id": "5f883a70-159f-44fe-84b1-c9a4443cf34a",
   "metadata": {},
   "outputs": [
    {
     "name": "stdout",
     "output_type": "stream",
     "text": [
      "Downloading data from https://storage.googleapis.com/tensorflow/tf-keras-datasets/train-labels-idx1-ubyte.gz\n",
      "29515/29515 [==============================] - 0s 1us/step\n",
      "Downloading data from https://storage.googleapis.com/tensorflow/tf-keras-datasets/train-images-idx3-ubyte.gz\n",
      "26421880/26421880 [==============================] - 2s 0us/step\n",
      "Downloading data from https://storage.googleapis.com/tensorflow/tf-keras-datasets/t10k-labels-idx1-ubyte.gz\n",
      "5148/5148 [==============================] - 0s 0s/step\n",
      "Downloading data from https://storage.googleapis.com/tensorflow/tf-keras-datasets/t10k-images-idx3-ubyte.gz\n",
      "4422102/4422102 [==============================] - 1s 0us/step\n"
     ]
    }
   ],
   "source": [
    "fashion_mnist = tf.keras.datasets.fashion_mnist\n",
    "\n",
    "(x_train, y_train),(x_test, y_test) = fashion_mnist.load_data()\n",
    "x_train, x_test = x_train / 255.0, x_test / 255.0"
   ]
  },
  {
   "cell_type": "markdown",
   "id": "573c9fb6-2006-4291-ae50-548153e2b805",
   "metadata": {},
   "source": [
    "#### Creo i parametri di unita delle celle dei layers , quantitá di dropout, e ottimizzatori. E creo il file nella cartella di logs di TensoBoards"
   ]
  },
  {
   "cell_type": "code",
   "execution_count": 3,
   "id": "ae9efad7-2894-433d-a5d1-2bf839845b27",
   "metadata": {},
   "outputs": [],
   "source": [
    "HP_NUM_UNITS = hp.HParam('num_units', hp.Discrete([16, 32, 64]))\n",
    "HP_DROPOUT = hp.HParam('dropout', hp.RealInterval(0.2, 0.5))\n",
    "HP_OPTIMIZER = hp.HParam('optimizer', hp.Discrete(['adam', 'sgd']))\n",
    "\n",
    "METRIC_ACCURACY = 'accuracy'\n",
    "\n",
    "with tf.summary.create_file_writer('logs/hparam_tuning').as_default():\n",
    "    hp.hparams_config(\n",
    "        hparams=[HP_NUM_UNITS, HP_DROPOUT, HP_OPTIMIZER],\n",
    "        metrics=[hp.Metric(METRIC_ACCURACY, display_name='Accuracy')],\n",
    "    )"
   ]
  },
  {
   "cell_type": "markdown",
   "id": "caf55f6a-9753-4e1c-9b95-de2fc813066a",
   "metadata": {},
   "source": [
    "#### Addestro il modello con le varie combinazioni di parametri"
   ]
  },
  {
   "cell_type": "code",
   "execution_count": 4,
   "id": "a4e656d4-0596-4577-b38f-e33d32146f27",
   "metadata": {},
   "outputs": [],
   "source": [
    "def train_test_model(hparams):\n",
    "    model = tf.keras.models.Sequential([\n",
    "        tf.keras.layers.Flatten(),\n",
    "        tf.keras.layers.Dense(hparams[HP_NUM_UNITS], activation=tf.nn.relu),\n",
    "        tf.keras.layers.Dropout(hparams[HP_DROPOUT]),\n",
    "        tf.keras.layers.Dense(10, activation=tf.nn.softmax),\n",
    "    ])\n",
    "    model.compile(\n",
    "        optimizer=hparams[HP_OPTIMIZER],\n",
    "        loss='sparse_categorical_crossentropy',\n",
    "        metrics=['accuracy'],\n",
    "    )\n",
    "\n",
    "    model.fit(x_train, y_train, epochs=1)\n",
    "    _, accuracy = model.evaluate(x_test, y_test)\n",
    "    return accuracy"
   ]
  },
  {
   "cell_type": "markdown",
   "id": "0c5404aa-6d55-48f4-9115-761184126d57",
   "metadata": {},
   "source": [
    "#### Creo una funzione che memorizza le combinazioni di parametri utilizzati"
   ]
  },
  {
   "cell_type": "code",
   "execution_count": 5,
   "id": "031378a7-d2d7-4bfe-bcdd-5a377e0304c4",
   "metadata": {},
   "outputs": [],
   "source": [
    "def run(run_dir, hparams):\n",
    "    with tf.summary.create_file_writer(run_dir).as_default():\n",
    "        hp.hparams(hparams)\n",
    "        accuracy = train_test_model(hparams)\n",
    "        tf.summary.scalar(METRIC_ACCURACY, accuracy, step=1)"
   ]
  },
  {
   "cell_type": "markdown",
   "id": "88a364ca-8491-4be6-bcc3-28ed454b46b3",
   "metadata": {},
   "source": [
    "#### Eseguo gli addestramenti"
   ]
  },
  {
   "cell_type": "code",
   "execution_count": 6,
   "id": "3040cc5e-6ed8-4ccd-8d36-372224096ed1",
   "metadata": {},
   "outputs": [
    {
     "name": "stdout",
     "output_type": "stream",
     "text": [
      "--- Inizio test: run-0\n",
      "{'num_units': 16, 'dropout': 0.2, 'optimizer': 'adam'}\n",
      "1875/1875 [==============================] - 6s 2ms/step - loss: 0.8233 - accuracy: 0.6899\n",
      "313/313 [==============================] - 1s 2ms/step - loss: 0.5670 - accuracy: 0.7888\n",
      "--- Inizio test: run-1\n",
      "{'num_units': 16, 'dropout': 0.2, 'optimizer': 'sgd'}\n",
      "1875/1875 [==============================] - 4s 2ms/step - loss: 1.1372 - accuracy: 0.6098\n",
      "313/313 [==============================] - 1s 2ms/step - loss: 0.6900 - accuracy: 0.7690\n",
      "--- Inizio test: run-2\n",
      "{'num_units': 16, 'dropout': 0.5, 'optimizer': 'adam'}\n",
      "1875/1875 [==============================] - 5s 2ms/step - loss: 1.1677 - accuracy: 0.5487\n",
      "313/313 [==============================] - 1s 2ms/step - loss: 0.6222 - accuracy: 0.7987\n",
      "--- Inizio test: run-3\n",
      "{'num_units': 16, 'dropout': 0.5, 'optimizer': 'sgd'}\n",
      "1875/1875 [==============================] - 5s 2ms/step - loss: 1.4625 - accuracy: 0.4431\n",
      "313/313 [==============================] - 1s 2ms/step - loss: 0.8720 - accuracy: 0.7367\n",
      "--- Inizio test: run-4\n",
      "{'num_units': 32, 'dropout': 0.2, 'optimizer': 'adam'}\n",
      "1875/1875 [==============================] - 5s 2ms/step - loss: 0.6707 - accuracy: 0.7672\n",
      "313/313 [==============================] - 1s 2ms/step - loss: 0.4568 - accuracy: 0.8387\n",
      "--- Inizio test: run-5\n",
      "{'num_units': 32, 'dropout': 0.2, 'optimizer': 'sgd'}\n",
      "1875/1875 [==============================] - 5s 2ms/step - loss: 0.9441 - accuracy: 0.6785\n",
      "313/313 [==============================] - 1s 2ms/step - loss: 0.6404 - accuracy: 0.7738\n",
      "--- Inizio test: run-6\n",
      "{'num_units': 32, 'dropout': 0.5, 'optimizer': 'adam'}\n",
      "1875/1875 [==============================] - 5s 2ms/step - loss: 0.8603 - accuracy: 0.6860\n",
      "313/313 [==============================] - 1s 2ms/step - loss: 0.5241 - accuracy: 0.8147\n",
      "--- Inizio test: run-7\n",
      "{'num_units': 32, 'dropout': 0.5, 'optimizer': 'sgd'}\n",
      "1875/1875 [==============================] - 5s 2ms/step - loss: 1.1118 - accuracy: 0.6142\n",
      "313/313 [==============================] - 1s 2ms/step - loss: 0.6683 - accuracy: 0.7675\n",
      "--- Inizio test: run-8\n",
      "{'num_units': 64, 'dropout': 0.2, 'optimizer': 'adam'}\n",
      "1875/1875 [==============================] - 5s 2ms/step - loss: 0.5660 - accuracy: 0.8020\n",
      "313/313 [==============================] - 1s 2ms/step - loss: 0.4390 - accuracy: 0.8414\n",
      "--- Inizio test: run-9\n",
      "{'num_units': 64, 'dropout': 0.2, 'optimizer': 'sgd'}\n",
      "1875/1875 [==============================] - 6s 3ms/step - loss: 0.8697 - accuracy: 0.7040\n",
      "313/313 [==============================] - 1s 3ms/step - loss: 0.6136 - accuracy: 0.7878\n",
      "--- Inizio test: run-10\n",
      "{'num_units': 64, 'dropout': 0.5, 'optimizer': 'adam'}\n",
      "1875/1875 [==============================] - 8s 4ms/step - loss: 0.6980 - accuracy: 0.7529\n",
      "313/313 [==============================] - 1s 2ms/step - loss: 0.4726 - accuracy: 0.8299\n",
      "--- Inizio test: run-11\n",
      "{'num_units': 64, 'dropout': 0.5, 'optimizer': 'sgd'}\n",
      "1875/1875 [==============================] - 6s 3ms/step - loss: 1.0343 - accuracy: 0.6467\n",
      "313/313 [==============================] - 1s 2ms/step - loss: 0.6564 - accuracy: 0.7723\n"
     ]
    }
   ],
   "source": [
    "session_num = 0\n",
    "\n",
    "for num_units in HP_NUM_UNITS.domain.values:\n",
    "    for dropout_rate in (HP_DROPOUT.domain.min_value, HP_DROPOUT.domain.max_value):\n",
    "        for optimizer in HP_OPTIMIZER.domain.values:\n",
    "            hparams = {\n",
    "                HP_NUM_UNITS: num_units,\n",
    "                HP_DROPOUT: dropout_rate,\n",
    "                HP_OPTIMIZER: optimizer,\n",
    "            }\n",
    "            run_name = \"run-%d\" % session_num\n",
    "            print('--- Inizio test: %s' % run_name)\n",
    "            print({h.name: hparams[h] for h in hparams})\n",
    "            run('logs/hparam_tuning/' + run_name, hparams)\n",
    "            session_num += 1"
   ]
  },
  {
   "cell_type": "markdown",
   "id": "fa103912-2803-41b0-a49b-78b8d7dc7e6b",
   "metadata": {},
   "source": [
    "eseguito lo script, in una shell avviare\n",
    "Tensorboard con il seguente comando\n",
    "nella stessa cartella in cui è salvato\n",
    "questo jupyter notebook\n",
    "```\n",
    "(venv) C:\\....\\tensorboard --logdir logs/hparam_tuning"
   ]
  },
  {
   "cell_type": "code",
   "execution_count": null,
   "id": "6574a7ab-21da-44c8-871c-30ba6e74f50e",
   "metadata": {},
   "outputs": [],
   "source": []
  }
 ],
 "metadata": {
  "kernelspec": {
   "display_name": "Python 3 (ipykernel)",
   "language": "python",
   "name": "python3"
  },
  "language_info": {
   "codemirror_mode": {
    "name": "ipython",
    "version": 3
   },
   "file_extension": ".py",
   "mimetype": "text/x-python",
   "name": "python",
   "nbconvert_exporter": "python",
   "pygments_lexer": "ipython3",
   "version": "3.9.0"
  }
 },
 "nbformat": 4,
 "nbformat_minor": 5
}
